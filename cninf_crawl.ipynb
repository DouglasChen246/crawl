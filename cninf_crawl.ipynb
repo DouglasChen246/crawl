{
 "cells": [
  {
   "cell_type": "code",
   "execution_count": 14,
   "metadata": {},
   "outputs": [],
   "source": [
    "import pandas as pd\n",
    "from selenium import webdriver\n",
    "import time\n",
    "import requests"
   ]
  },
  {
   "cell_type": "code",
   "execution_count": 15,
   "metadata": {},
   "outputs": [],
   "source": [
    "options = webdriver.ChromeOptions()\n",
    "options.add_argument('--headless')\n"
   ]
  },
  {
   "cell_type": "code",
   "execution_count": 16,
   "metadata": {},
   "outputs": [
    {
     "name": "stdout",
     "output_type": "stream",
     "text": [
      "1\n",
      "2\n",
      "3\n",
      "4\n",
      "5\n",
      "6\n",
      "7\n",
      "8\n",
      "9\n",
      "10\n",
      "11\n",
      "12\n",
      "['http://www.cninfo.com.cn/new/disclosure/detail?stockCode=002157&orgId=9900003434&announcementId=1217469914&announcementTime=2023-08-05', 'http://www.cninfo.com.cn/new/disclosure/detail?stockCode=688252&orgId=9900049001&announcementId=1217469857&announcementTime=2023-08-05', 'http://www.cninfo.com.cn/new/disclosure/detail?stockCode=002121&orgId=9900002262&announcementId=1217469830&announcementTime=2023-08-05', 'http://www.cninfo.com.cn/new/disclosure/detail?stockCode=600609&orgId=gssh0600609&announcementId=1217469804&announcementTime=2023-08-05', 'http://www.cninfo.com.cn/new/disclosure/detail?stockCode=002049&orgId=gssz0002049&announcementId=1217469782&announcementTime=2023-08-05', 'http://www.cninfo.com.cn/new/disclosure/detail?stockCode=002504&orgId=9900006136&announcementId=1217469757&announcementTime=2023-08-05', 'http://www.cninfo.com.cn/new/disclosure/detail?stockCode=300530&orgId=9900026813&announcementId=1217469731&announcementTime=2023-08-05', 'http://www.cninfo.com.cn/new/disclosure/detail?stockCode=000560&orgId=gssz0000560&announcementId=1217469702&announcementTime=2023-08-05', 'http://www.cninfo.com.cn/new/disclosure/detail?stockCode=300750&orgId=GD165627&announcementId=1217469677&announcementTime=2023-08-05', 'http://www.cninfo.com.cn/new/disclosure/detail?stockCode=000666&orgId=gssz0000666&announcementId=1217469666&announcementTime=2023-08-05', 'http://www.cninfo.com.cn/new/disclosure/detail?stockCode=600818&orgId=gssh0600818&announcementId=1217469642&announcementTime=2023-08-05', 'http://www.cninfo.com.cn/new/disclosure/detail?stockCode=002168&orgId=9900003601&announcementId=1217469628&announcementTime=2023-08-05']\n",
      "https://static.cninfo.com.cn/finalpage/2023-08-05/1217469914.PDF\n",
      "https://static.cninfo.com.cn/finalpage/2023-08-05/1217469857.PDF\n",
      "https://static.cninfo.com.cn/finalpage/2023-08-05/1217469830.PDF\n",
      "https://static.cninfo.com.cn/finalpage/2023-08-05/1217469804.PDF\n",
      "https://static.cninfo.com.cn/finalpage/2023-08-05/1217469782.PDF\n",
      "https://static.cninfo.com.cn/finalpage/2023-08-05/1217469757.PDF\n",
      "https://static.cninfo.com.cn/finalpage/2023-08-05/1217469731.PDF\n",
      "https://static.cninfo.com.cn/finalpage/2023-08-05/1217469702.PDF\n",
      "https://static.cninfo.com.cn/finalpage/2023-08-05/1217469677.PDF\n",
      "https://static.cninfo.com.cn/finalpage/2023-08-05/1217469666.PDF\n",
      "https://static.cninfo.com.cn/finalpage/2023-08-05/1217469642.PDF\n",
      "https://static.cninfo.com.cn/finalpage/2023-08-05/1217469628.PDF\n"
     ]
    }
   ],
   "source": [
    "driver = webdriver.Chrome(options=options)\n",
    "\n",
    "cap_url = \"http://www.cninfo.com.cn/new/index\"\n",
    "driver.get(cap_url)\n",
    "\n",
    "time.sleep(5)\n",
    "\n",
    "button_urls = []\n",
    "titles = []\n",
    "for x in range(1,13):\n",
    "    print(x)\n",
    "    button = driver.find_element('xpath','/html/body/div[4]/div/div[1]/div/div/div[1]/table/tbody/tr['+str(x)+']/td[3]/span/a')\n",
    "    title = driver.find_element('xpath','/html/body/div[4]/div/div[1]/div/div/div[1]/table/tbody/tr['+str(x)+']/td[3]/span').get_attribute('title')\n",
    "    button_url = button.get_attribute('href')   \n",
    "    button_urls.append(button_url)\n",
    "    titles.append(title)\n",
    "\n",
    "print(button_urls)\n",
    "hrefs = []\n",
    "for button_url in button_urls:\n",
    "    driver.get(button_url)\n",
    "    href = driver.find_element('xpath','/html/body/div[1]/div/div[2]/div[1]/a')\n",
    "    hrefs.append(href.get_attribute('href'))\n",
    "\n",
    "for _ in range(len(hrefs)):\n",
    "    url = hrefs[_].replace('http://','https://')\n",
    "    print(url)\n",
    "    res = requests.get(url)\n",
    "    if res.status_code == 200:\n",
    "        path = '巨潮\\ ' + titles[_] + '.pdf'\n",
    "        file = open(path,'wb')\n",
    "        file.write(res.content)\n",
    "    else: \n",
    "        print(\"文件下载失败，状态码：\", res.status_code)\n",
    "    time.sleep(3)\n",
    "\n",
    "driver.quit()"
   ]
  }
 ],
 "metadata": {
  "kernelspec": {
   "display_name": "base",
   "language": "python",
   "name": "python3"
  },
  "language_info": {
   "codemirror_mode": {
    "name": "ipython",
    "version": 3
   },
   "file_extension": ".py",
   "mimetype": "text/x-python",
   "name": "python",
   "nbconvert_exporter": "python",
   "pygments_lexer": "ipython3",
   "version": "3.9.16"
  },
  "orig_nbformat": 4
 },
 "nbformat": 4,
 "nbformat_minor": 2
}
